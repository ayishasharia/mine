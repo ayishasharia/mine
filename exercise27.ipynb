{
 "cells": [
  {
   "cell_type": "code",
   "execution_count": 3,
   "metadata": {},
   "outputs": [
    {
     "name": "stdout",
     "output_type": "stream",
     "text": [
      "\n",
      "contents before deleting:\n",
      "\n",
      "one\n",
      "two\n",
      "three\n",
      "four\n",
      "five\n",
      "six\n",
      "seven\n",
      "eight\n",
      "nine\n",
      "ten\n",
      "\n",
      "contents after deleting:\n",
      "\n",
      "one\n",
      "two\n",
      "three\n",
      "five\n",
      "six\n",
      "seven\n",
      "eight\n",
      "nine\n",
      "ten\n"
     ]
    }
   ],
   "source": [
    "#1.write a program to delete a sentence from the specified position in file\n",
    "p=int(input(\"enter sentence position:\"))\n",
    "with open(\"sentence.txt\",\"r\") as f:\n",
    "    data=f.read().split('\\n')\n",
    "print(\"\\ncontents before deleting:\\n\")\n",
    "for i in data:\n",
    "    print(i);\n",
    "del data[p-1]\n",
    "print(\"\\ncontents after deleting:\\n\")\n",
    "f2=open(\"sentence.txt\",\"w+\")\n",
    "for i in data:\n",
    "    print(i);\n",
    "    if(i!='\\n'):\n",
    "        f2.writelines(i+'\\n')\n",
    "f2.close()"
   ]
  },
  {
   "cell_type": "code",
   "execution_count": 5,
   "metadata": {},
   "outputs": [
    {
     "name": "stdout",
     "output_type": "stream",
     "text": [
      "file data before before replace:\n",
      "\n",
      "hello world\n",
      "hello python world\n",
      "\n",
      "file data after replace :\n",
      "\n",
      "hai world\n",
      "hai python world\n"
     ]
    }
   ],
   "source": [
    "#2.write a program to search a word and replace with another word for all the occurences\n",
    "with open(\"replace.txt\",\"r\") as f:\n",
    "    data=f.read().split('\\n')\n",
    "print(\"file data before before replace:\\n\")\n",
    "[print(i) for i in data]\n",
    "s1=input(\"\\n enter string:\")\n",
    "s2=input(\"enter replacing string:\")\n",
    "print(\"\\nfile data after replace :\\n\")\n",
    "f=open(\"replace.txt\",\"w+\")\n",
    "for i in data:\n",
    "    if s1 in i:\n",
    "        i=i.replace(s1,s2)\n",
    "        print(i)\n",
    "        f.writelines(i+'\\n')\n",
    "f.close()"
   ]
  },
  {
   "cell_type": "code",
   "execution_count": 6,
   "metadata": {},
   "outputs": [
    {
     "name": "stdout",
     "output_type": "stream",
     "text": [
      "comments deleted succesfully!\n"
     ]
    }
   ],
   "source": [
    "#3.write a program to delete comment lines(lines beginning with#)from a file\n",
    "\n",
    "import re\n",
    "import os\n",
    "\n",
    "lines=[]\n",
    "with open(\"comment.txt\",\"r+\") as file:\n",
    "    lines=file.read().split(os.linesep)\n",
    "    index=0\n",
    "    for line in lines:\n",
    "        m=re.match('^#',line)\n",
    "        if(m!=None):\n",
    "            lines[index]=''\n",
    "        index+=1\n",
    "    \n",
    "with open('comment.txt','w') as file:\n",
    "    for line in lines:\n",
    "        if line!='':\n",
    "            file.write(line+os.linesep)\n",
    "    print('comments deleted succesfully!')\n",
    "   \n"
   ]
  },
  {
   "cell_type": "code",
   "execution_count": 4,
   "metadata": {},
   "outputs": [
    {
     "name": "stdout",
     "output_type": "stream",
     "text": [
      "word frquency of a file:\n",
      "\n",
      "word :count\n",
      "\n",
      "i \t: 1\n",
      "love \t: 2\n",
      "travelling \t: 1\n",
      "world \t: 1\n",
      "wolrd \t: 1\n"
     ]
    }
   ],
   "source": [
    "#4.write a program to count the frequencies of each word from a file\n",
    "with open(\"file.txt\",\"r\") as f:\n",
    "    data=f.read().split(' ')\n",
    "word=list()\n",
    "fre=list()\n",
    "print(\"word frquency of a file:\")\n",
    "for i in data:\n",
    "    if i in word:\n",
    "        fre[word.index(i)]=fre[word.index(i)]+1\n",
    "    else:\n",
    "        word.append(i)\n",
    "        fre.append(1)\n",
    "i=0\n",
    "print(\"\\nword :count\\n\")\n",
    "for i in word:\n",
    "    print(i,\"\\t:\",fre[word.index(i)])"
   ]
  },
  {
   "cell_type": "code",
   "execution_count": null,
   "metadata": {},
   "outputs": [],
   "source": []
  }
 ],
 "metadata": {
  "kernelspec": {
   "display_name": "Python 3",
   "language": "python",
   "name": "python3"
  },
  "language_info": {
   "codemirror_mode": {
    "name": "ipython",
    "version": 3
   },
   "file_extension": ".py",
   "mimetype": "text/x-python",
   "name": "python",
   "nbconvert_exporter": "python",
   "pygments_lexer": "ipython3",
   "version": "3.6.3"
  }
 },
 "nbformat": 4,
 "nbformat_minor": 2
}
