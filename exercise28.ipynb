{
 "cells": [
  {
   "cell_type": "code",
   "execution_count": 3,
   "metadata": {},
   "outputs": [
    {
     "name": "stdout",
     "output_type": "stream",
     "text": [
      "string: My name is Ayisha Sharia\n",
      "No.of Upper case characters : 3\n",
      "No.of Lower case characters : 17\n"
     ]
    }
   ],
   "source": [
    "#write a python fucntion that accepts a string \n",
    "#calculate the no:of upper case letters and lower case letters\n",
    "\n",
    "\n",
    "def string(s):\n",
    "    UPPER_CASE=0\n",
    "    LOWER_CASE=0\n",
    "    for c in s:\n",
    "        if c.isupper():\n",
    "           UPPER_CASE+=1\n",
    "        elif c.islower():\n",
    "           LOWER_CASE+=1\n",
    "        else:\n",
    "           pass\n",
    "    print(\"string:\",s)\n",
    "    print(\"No.of Upper case characters :\",UPPER_CASE)\n",
    "    print(\"No.of Lower case characters :\",LOWER_CASE)\n",
    "string(\"My name is Ayisha Sharia\")"
   ]
  },
  {
   "cell_type": "code",
   "execution_count": 21,
   "metadata": {},
   "outputs": [
    {
     "ename": "NameError",
     "evalue": "name 'unique_list' is not defined",
     "output_type": "error",
     "traceback": [
      "\u001b[0;31m---------------------------------------------------------------------------\u001b[0m",
      "\u001b[0;31mNameError\u001b[0m                                 Traceback (most recent call last)",
      "\u001b[0;32m<ipython-input-21-9515b625c67c>\u001b[0m in \u001b[0;36m<module>\u001b[0;34m()\u001b[0m\n\u001b[1;32m      3\u001b[0m \u001b[0;34m\u001b[0m\u001b[0m\n\u001b[1;32m      4\u001b[0m \u001b[0;32mimport\u001b[0m \u001b[0muniq\u001b[0m\u001b[0;34m\u001b[0m\u001b[0m\n\u001b[0;32m----> 5\u001b[0;31m \u001b[0mprint\u001b[0m\u001b[0;34m(\u001b[0m\u001b[0munique_list\u001b[0m\u001b[0;34m(\u001b[0m\u001b[0;34m[\u001b[0m\u001b[0;36m1\u001b[0m\u001b[0;34m,\u001b[0m\u001b[0;36m2\u001b[0m\u001b[0;34m,\u001b[0m\u001b[0;36m3\u001b[0m\u001b[0;34m,\u001b[0m\u001b[0;36m3\u001b[0m\u001b[0;34m,\u001b[0m\u001b[0;36m3\u001b[0m\u001b[0;34m,\u001b[0m\u001b[0;36m3\u001b[0m\u001b[0;34m,\u001b[0m\u001b[0;36m4\u001b[0m\u001b[0;34m,\u001b[0m\u001b[0;36m5\u001b[0m\u001b[0;34m]\u001b[0m\u001b[0;34m)\u001b[0m\u001b[0;34m)\u001b[0m\u001b[0;34m\u001b[0m\u001b[0m\n\u001b[0m",
      "\u001b[0;31mNameError\u001b[0m: name 'unique_list' is not defined"
     ]
    }
   ],
   "source": [
    "#write a python fuction that take a list and returns a new list with unique elements of first list\n",
    "#import the module and input a list to find the unique element in a list.\n",
    "\n",
    "import uniq\n",
    "print(unique_list([1,2,3,3,3,3,4,5]))"
   ]
  },
  {
   "cell_type": "code",
   "execution_count": 14,
   "metadata": {},
   "outputs": [
    {
     "name": "stdout",
     "output_type": "stream",
     "text": [
      "[153, 370, 371, 407]\n"
     ]
    }
   ],
   "source": [
    "# write a fuction in file amstrong.py to check whether a numberis an amstrong number.\n",
    "#import the module to generate amstrong numbers between 2 limits\n",
    "import newnumber\n",
    "amstrong_numbers=[n for n in range(100,1000) if newnumber.is_amstrong_number(n)]\n",
    "print(amstrong_numbers)"
   ]
  },
  {
   "cell_type": "code",
   "execution_count": null,
   "metadata": {},
   "outputs": [],
   "source": []
  }
 ],
 "metadata": {
  "kernelspec": {
   "display_name": "Python 3",
   "language": "python",
   "name": "python3"
  },
  "language_info": {
   "codemirror_mode": {
    "name": "ipython",
    "version": 3
   },
   "file_extension": ".py",
   "mimetype": "text/x-python",
   "name": "python",
   "nbconvert_exporter": "python",
   "pygments_lexer": "ipython3",
   "version": "3.6.3"
  }
 },
 "nbformat": 4,
 "nbformat_minor": 2
}
